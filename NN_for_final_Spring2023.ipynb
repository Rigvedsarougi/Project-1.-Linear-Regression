{
  "nbformat": 4,
  "nbformat_minor": 0,
  "metadata": {
    "colab": {
      "provenance": []
    },
    "kernelspec": {
      "name": "python3",
      "display_name": "Python 3"
    },
    "language_info": {
      "name": "python"
    }
  },
  "cells": [
    {
      "cell_type": "code",
      "execution_count": 79,
      "metadata": {
        "id": "JgcJw92FOqGF"
      },
      "outputs": [],
      "source": [
        "import numpy as np\n",
        "import matplotlib.pyplot as plt\n",
        "import pandas as pd\n",
        "import sklearn as sk\n",
        "import sklearn.model_selection\n",
        "import sklearn.datasets\n",
        "import torch"
      ]
    },
    {
      "cell_type": "code",
      "source": [
        "dataset = sk.datasets.load_digits()\n",
        "X = dataset.data / 16\n",
        "y = dataset.target\n",
        "\n",
        "X_train, X_val, y_train, y_val = sk.model_selection.train_test_split(X, y)"
      ],
      "metadata": {
        "id": "D6dwZxTsOyrX"
      },
      "execution_count": 80,
      "outputs": []
    },
    {
      "cell_type": "code",
      "source": [
        "class DigitsDataset():\n",
        "  def __init__(self, X, y):\n",
        "    self.X = X\n",
        "    self.y = y\n",
        "\n",
        "  def __len__(self):\n",
        "    return len(self.X)\n",
        "\n",
        "  def __getitem__(self, i):\n",
        "\n",
        "    xi = self.X[i]\n",
        "    yi = self.y[i]\n",
        "\n",
        "    return torch.tensor(xi, dtype=torch.float32), torch.tensor(yi, dtype=torch.long)"
      ],
      "metadata": {
        "id": "5m46IA9hP5-x"
      },
      "execution_count": 81,
      "outputs": []
    },
    {
      "cell_type": "code",
      "source": [
        "dataset_train = DigitsDataset(X_train, y_train)\n",
        "dataset_val = DigitsDataset(X_val, y_val)\n",
        "\n",
        "dataloader_train = torch.utils.data.DataLoader(dataset_train, batch_size=16, shuffle=True)\n",
        "dataloader_val = torch.utils.data.DataLoader(dataset_val, batch_size=16, shuffle=False)"
      ],
      "metadata": {
        "id": "oDiHwstiTWon"
      },
      "execution_count": 82,
      "outputs": []
    },
    {
      "cell_type": "code",
      "source": [
        "class SimpleNeuralNetwork(torch.nn.Module):\n",
        "  def __init__(self):\n",
        "    super().__init__()\n",
        "    self.dense1 = torch.nn.Linear(64, 256)\n",
        "    self.dense2 = torch.nn.Linear(256, 128)\n",
        "    self.dense3 = torch.nn.Linear(128, 10)\n",
        "\n",
        "  def forward(self, x):\n",
        "    x = self.dense1(x)\n",
        "    x = torch.nn.functional.relu(x)\n",
        "    x = self.dense2(x)\n",
        "    x = torch.nn.functional.relu(x)\n",
        "    x = self.dense3(x)\n",
        "\n",
        "    return x"
      ],
      "metadata": {
        "id": "EZeRPxTlVAGx"
      },
      "execution_count": 83,
      "outputs": []
    },
    {
      "cell_type": "code",
      "source": [
        "model = SimpleNeuralNetwork()\n",
        "optimizer = torch.optim.Adam(model.parameters(), lr=3e-4)"
      ],
      "metadata": {
        "id": "0TW69clCXVtu"
      },
      "execution_count": 84,
      "outputs": []
    },
    {
      "cell_type": "code",
      "source": [
        "num_epochs = 20\n",
        "L_train_history = []\n",
        "L_val_history = []\n",
        "\n",
        "for ep in range(num_epochs):\n",
        "  L = 0\n",
        "  for x_batch, y_batch in dataloader_train:\n",
        "    outputs = model(x_batch)\n",
        "    loss = torch.nn.functional.cross_entropy(outputs, y_batch)\n",
        "    L += loss*len(x_batch)\n",
        "\n",
        "    model.zero_grad()\n",
        "    loss.backward()\n",
        "    optimizer.step()\n",
        "\n",
        "  L = L.item() / len(dataset_train)\n",
        "  L_train_history.append(L)\n",
        "  print(f'Just finished epoch: {ep}')\n",
        "  print(f'Cost function value (training data): {L}')\n",
        "\n",
        "  L = 0\n",
        "  for x_batch, y_batch in dataloader_val:\n",
        "    with torch.no_grad():\n",
        "      outputs = model(x_batch)\n",
        "      loss = torch.nn.functional.cross_entropy(outputs, y_batch)\n",
        "      L += loss*len(x_batch)\n",
        "\n",
        "  L = L.item() / len(dataset_val)\n",
        "  L_val_history.append(L)\n",
        "  print(f'Cost function value (validation data): {L}')\n"
      ],
      "metadata": {
        "id": "wPDxEr7yY-ZQ"
      },
      "execution_count": null,
      "outputs": []
    },
    {
      "cell_type": "code",
      "source": [
        "plt.figure(figsize=(3,3))\n",
        "plt.plot(L_train_history, label='training data')\n",
        "plt.plot(L_val_history, label='validation data')\n",
        "plt.legend()\n",
        "plt.title('Cost function value vs. epoch')"
      ],
      "metadata": {
        "id": "GYDjIpPlaupc"
      },
      "execution_count": null,
      "outputs": []
    }
  ]
}